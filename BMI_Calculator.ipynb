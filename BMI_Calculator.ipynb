{
  "nbformat": 4,
  "nbformat_minor": 0,
  "metadata": {
    "colab": {
      "provenance": [],
      "authorship_tag": "ABX9TyPtftPfPbURA67rHxI0jCV8",
      "include_colab_link": true
    },
    "kernelspec": {
      "name": "python3",
      "display_name": "Python 3"
    },
    "language_info": {
      "name": "python"
    }
  },
  "cells": [
    {
      "cell_type": "markdown",
      "metadata": {
        "id": "view-in-github",
        "colab_type": "text"
      },
      "source": [
        "<a href=\"https://colab.research.google.com/github/utsapoddar/codewars-solutions/blob/main/BMI_Calculator.ipynb\" target=\"_parent\"><img src=\"https://colab.research.google.com/assets/colab-badge.svg\" alt=\"Open In Colab\"/></a>"
      ]
    },
    {
      "cell_type": "markdown",
      "source": [
        "Write function bmi that calculates body mass index (bmi = weight / height^2).\n",
        "\n",
        "if bmi <= 18.5 return \"Underweight\"\n",
        "\n",
        "if bmi <= 25.0 return \"Normal\"\n",
        "\n",
        "if bmi <= 30.0 return \"Overweight\"\n",
        "\n",
        "if bmi > 30 return \"Obese\"\n"
      ],
      "metadata": {
        "id": "pJHGEzbUvHJC"
      }
    },
    {
      "cell_type": "code",
      "execution_count": 4,
      "metadata": {
        "colab": {
          "base_uri": "https://localhost:8080/",
          "height": 34
        },
        "id": "7OObyADdnmrd",
        "outputId": "f4646489-4e78-4fdb-e4f9-a6b481fc6b76"
      },
      "outputs": [
        {
          "output_type": "execute_result",
          "data": {
            "text/plain": [
              "'Underweight'"
            ],
            "application/vnd.google.colaboratory.intrinsic+json": {
              "type": "string"
            }
          },
          "metadata": {},
          "execution_count": 4
        }
      ],
      "source": [
        "def bmi(weight, height):\n",
        "    index=float(weight)/float(height)**2\n",
        "    if index>30:\n",
        "        return \"Obese\"\n",
        "    elif index<=30 and index>25:\n",
        "        return \"Overweight\"\n",
        "    elif index<=25 and index>18.5:\n",
        "        return \"Normal\"\n",
        "    else:\n",
        "        return \"Underweight\"\n",
        "\n",
        "bmi(50, 1.80)"
      ]
    }
  ]
}