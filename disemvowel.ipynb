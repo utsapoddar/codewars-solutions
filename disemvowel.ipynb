{
  "nbformat": 4,
  "nbformat_minor": 0,
  "metadata": {
    "colab": {
      "provenance": [],
      "authorship_tag": "ABX9TyN4RSx8EBCf7cIZSILwWQ3S",
      "include_colab_link": true
    },
    "kernelspec": {
      "name": "python3",
      "display_name": "Python 3"
    },
    "language_info": {
      "name": "python"
    }
  },
  "cells": [
    {
      "cell_type": "markdown",
      "metadata": {
        "id": "view-in-github",
        "colab_type": "text"
      },
      "source": [
        "<a href=\"https://colab.research.google.com/github/utsapoddar/codewars-solutions/blob/main/disemvowel.ipynb\" target=\"_parent\"><img src=\"https://colab.research.google.com/assets/colab-badge.svg\" alt=\"Open In Colab\"/></a>"
      ]
    },
    {
      "cell_type": "markdown",
      "source": [
        "Trolls are attacking your comment section!\n",
        "\n",
        "A common way to deal with this situation is to remove all of the vowels from the trolls' comments, neutralizing the threat.\n",
        "\n",
        "Your task is to write a function that takes a string and return a new string with all vowels removed.\n",
        "\n",
        "For example, the string \"This website is for losers LOL!\" would become \"Ths wbst s fr lsrs LL!\".\n",
        "\n",
        "Note: for this kata y isn't considered a vowel."
      ],
      "metadata": {
        "id": "VVkHDdOtFl5F"
      }
    },
    {
      "cell_type": "code",
      "source": [
        "string_=\"This website is for losers LOL!\""
      ],
      "metadata": {
        "id": "yJgpasb8FvMA"
      },
      "execution_count": 3,
      "outputs": []
    },
    {
      "cell_type": "code",
      "source": [
        "def disemvowel(string_):\n",
        "    string_=string_.replace('a','').replace('e','').replace('i','').replace('o','').replace('u','')\n",
        "    string_=string_.replace('A','').replace('E','').replace('I','').replace('O','').replace('U','')\n",
        "    return string_\n",
        "print(disemvowel(string_))"
      ],
      "metadata": {
        "colab": {
          "base_uri": "https://localhost:8080/"
        },
        "id": "aVA82oZ7FjYu",
        "outputId": "ca47d9bc-bcad-48d7-f63a-93eed789f5f8"
      },
      "execution_count": 6,
      "outputs": [
        {
          "output_type": "stream",
          "name": "stdout",
          "text": [
            "Ths wbst s fr lsrs LL!\n"
          ]
        }
      ]
    }
  ]
}