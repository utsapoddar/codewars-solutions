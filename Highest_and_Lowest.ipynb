{
  "nbformat": 4,
  "nbformat_minor": 0,
  "metadata": {
    "colab": {
      "provenance": [],
      "authorship_tag": "ABX9TyM3ofWic68pBFcVe2XFkj3S",
      "include_colab_link": true
    },
    "kernelspec": {
      "name": "python3",
      "display_name": "Python 3"
    },
    "language_info": {
      "name": "python"
    }
  },
  "cells": [
    {
      "cell_type": "markdown",
      "metadata": {
        "id": "view-in-github",
        "colab_type": "text"
      },
      "source": [
        "<a href=\"https://colab.research.google.com/github/utsapoddar/SQL-queries/blob/main/Highest_and_Lowest.ipynb\" target=\"_parent\"><img src=\"https://colab.research.google.com/assets/colab-badge.svg\" alt=\"Open In Colab\"/></a>"
      ]
    },
    {
      "cell_type": "markdown",
      "source": [
        "In this little assignment you are given a string of space separated numbers, and have to return the highest and lowest number.\n",
        "\n",
        "Examples\n",
        "\n",
        "high_and_low(\"1 2 3 4 5\") # return \"5 1\"\n",
        "\n",
        "high_and_low(\"1 2 -3 4 5\") # return \"5 -3\"\n",
        "\n",
        "high_and_low(\"1 9 3 4 -5\") # return \"9 -5\"\n",
        "\n",
        "Notes\n",
        "\n",
        "All numbers are valid Int32, no need to validate them.\n",
        "There will always be at least one number in the input string.\n",
        "Output string must be two numbers separated by a single space, and highest number is first."
      ],
      "metadata": {
        "id": "nkwGwjoyw_FU"
      }
    },
    {
      "cell_type": "code",
      "source": [
        "numbers=\"8 3 -5 42 -1 0 0 -9 4 7 4 -4\""
      ],
      "metadata": {
        "id": "Oic-vxRLxIwV"
      },
      "execution_count": 1,
      "outputs": []
    },
    {
      "cell_type": "code",
      "execution_count": 24,
      "metadata": {
        "colab": {
          "base_uri": "https://localhost:8080/",
          "height": 34
        },
        "id": "WsK5_e6LwmJh",
        "outputId": "c181e7c7-a06a-4254-aced-330ce1d7fd00"
      },
      "outputs": [
        {
          "output_type": "execute_result",
          "data": {
            "text/plain": [
              "'42 -9'"
            ],
            "application/vnd.google.colaboratory.intrinsic+json": {
              "type": "string"
            }
          },
          "metadata": {},
          "execution_count": 24
        }
      ],
      "source": [
        "def high_and_low(numbers):\n",
        "\n",
        "    numbers_list=numbers.split(\" \")\n",
        "    number=list(map(int,numbers_list))\n",
        "    numbers_result=max(number),min(number)\n",
        "    max_number=numbers_result[0]\n",
        "    min_number=numbers_result[1]\n",
        "    return f'{max_number} {min_number}'\n",
        "high_and_low(numbers)"
      ]
    }
  ]
}