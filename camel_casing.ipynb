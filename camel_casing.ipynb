{
  "nbformat": 4,
  "nbformat_minor": 0,
  "metadata": {
    "colab": {
      "provenance": [],
      "authorship_tag": "ABX9TyO0CFCXTurW2oT7NOcq/xZO",
      "include_colab_link": true
    },
    "kernelspec": {
      "name": "python3",
      "display_name": "Python 3"
    },
    "language_info": {
      "name": "python"
    }
  },
  "cells": [
    {
      "cell_type": "markdown",
      "metadata": {
        "id": "view-in-github",
        "colab_type": "text"
      },
      "source": [
        "<a href=\"https://colab.research.google.com/github/utsapoddar/codewars-solutions/blob/main/camel_casing.ipynb\" target=\"_parent\"><img src=\"https://colab.research.google.com/assets/colab-badge.svg\" alt=\"Open In Colab\"/></a>"
      ]
    },
    {
      "cell_type": "markdown",
      "source": [
        "Complete the method/function so that it converts dash/underscore delimited words into camel casing. The first word within the output should be capitalized only if the original word was capitalized (known as Upper Camel Case, also often referred to as Pascal case). The next words should be always capitalized.\n",
        "\n",
        "Examples\n",
        "\n",
        "\"the-stealth-warrior\" gets converted to \"theStealthWarrior\"\n",
        "\n",
        "\"The_Stealth_Warrior\" gets converted to \"TheStealthWarrior\"\n",
        "\n",
        "\"The_Stealth-Warrior\" gets converted to \"TheStealthWarrior\""
      ],
      "metadata": {
        "id": "csQKLg5k0YqM"
      }
    },
    {
      "cell_type": "code",
      "source": [
        "demo_text=\"the-stealth-warrior\""
      ],
      "metadata": {
        "id": "nvcAEvz10sNC"
      },
      "execution_count": null,
      "outputs": []
    },
    {
      "cell_type": "code",
      "source": [
        "def to_camel_case(text):\n",
        "    new_text = ''\n",
        "    i = 0\n",
        "    while i < len(text):\n",
        "        if text[i] == '-' or text[i] == '_':\n",
        "            # Capitalize the next character and add it to new_text\n",
        "            new_text += text[i+1].upper()\n",
        "            # Increment i by an additional 1 to skip the character that was just capitalized\n",
        "            i += 2\n",
        "        else:\n",
        "            # Add the current character to new_text\n",
        "            new_text += text[i]\n",
        "            # Increment i by 1 for the next iteration\n",
        "            i += 1\n",
        "    return new_text"
      ],
      "metadata": {
        "id": "Oi-SSfIhgXkG"
      },
      "execution_count": 9,
      "outputs": []
    }
  ]
}