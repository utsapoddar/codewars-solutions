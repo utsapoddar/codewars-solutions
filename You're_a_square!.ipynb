{
  "nbformat": 4,
  "nbformat_minor": 0,
  "metadata": {
    "colab": {
      "provenance": [],
      "authorship_tag": "ABX9TyPkHuwckgcoXNTSRBU2ZRus",
      "include_colab_link": true
    },
    "kernelspec": {
      "name": "python3",
      "display_name": "Python 3"
    },
    "language_info": {
      "name": "python"
    }
  },
  "cells": [
    {
      "cell_type": "markdown",
      "metadata": {
        "id": "view-in-github",
        "colab_type": "text"
      },
      "source": [
        "<a href=\"https://colab.research.google.com/github/utsapoddar/codewars-solutions/blob/main/You're_a_square!.ipynb\" target=\"_parent\"><img src=\"https://colab.research.google.com/assets/colab-badge.svg\" alt=\"Open In Colab\"/></a>"
      ]
    },
    {
      "cell_type": "markdown",
      "source": [
        "A square of squares\n",
        "\n",
        "You like building blocks. You especially like building blocks that are squares. And what you even like more, is to arrange them into a square of square building blocks!\n",
        "\n",
        "However, sometimes, you can't arrange them into a square. Instead, you end up with an ordinary rectangle! Those blasted things! If you just had a way to know, whether you're currently working in vain… Wait! That's it! You just have to check if your number of building blocks is a perfect square.\n",
        "\n",
        "Task\n",
        "\n",
        "Given an integral number, determine if it's a square number:\n",
        "\n",
        "In mathematics, a square number or perfect square is an integer that is the square of an integer; in other words, it is the product of some integer with itself.\n",
        "\n",
        "The tests will always use some integral number, so don't worry about that in dynamic typed languages.\n",
        "\n",
        "Examples\n",
        "\n",
        "-1  =>  false\n",
        "\n",
        " 0  =>  true\n",
        "\n",
        " 3  =>  false\n",
        "\n",
        " 4  =>  true\n",
        "\n",
        "25  =>  true\n",
        "\n",
        "26  =>  false"
      ],
      "metadata": {
        "id": "FRUejsWWMUKV"
      }
    },
    {
      "cell_type": "code",
      "source": [
        "n=25"
      ],
      "metadata": {
        "id": "cyPtFB6UMdgN"
      },
      "execution_count": 1,
      "outputs": []
    },
    {
      "cell_type": "code",
      "execution_count": 5,
      "metadata": {
        "colab": {
          "base_uri": "https://localhost:8080/"
        },
        "id": "Kmlqu2kOMJLo",
        "outputId": "620c67b2-7391-4da4-ad82-62be4c530518"
      },
      "outputs": [
        {
          "output_type": "execute_result",
          "data": {
            "text/plain": [
              "True"
            ]
          },
          "metadata": {},
          "execution_count": 5
        }
      ],
      "source": [
        "def is_square(n):\n",
        "    if n < 0:\n",
        "        return False\n",
        "    import math\n",
        "    sqrt_n = int(math.sqrt(n))\n",
        "    return sqrt_n * sqrt_n == n\n",
        "\n",
        "is_square(n)"
      ]
    }
  ]
}