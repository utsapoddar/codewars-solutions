{
  "nbformat": 4,
  "nbformat_minor": 0,
  "metadata": {
    "colab": {
      "provenance": []
    },
    "kernelspec": {
      "name": "python3",
      "display_name": "Python 3"
    },
    "language_info": {
      "name": "python"
    }
  },
  "cells": [
    {
      "cell_type": "markdown",
      "source": [
        "Digital root is the recursive sum of all the digits in a number.\n",
        "\n",
        "Given n, take the sum of the digits of n. If that value has more than one digit, continue reducing in this way until a single-digit number is produced. The input will be a non-negative integer.\n",
        "\n",
        "Examples\n",
        "\n",
        "    16  -->  1 + 6 = 7\n",
        "    942  -->  9 + 4 + 2 = 15  -->  1 + 5 = 6\n",
        "    132189  -->  1 + 3 + 2 + 1 + 8 + 9 = 24  -->  2 + 4 = 6\n",
        "    493193  -->  4 + 9 + 3 + 1 + 9 + 3 = 29  -->  2 + 9 = 11  -->  1 + 1 = 2"
      ],
      "metadata": {
        "id": "0oT1YtQNiuMS"
      }
    },
    {
      "cell_type": "code",
      "source": [
        "n=493193"
      ],
      "metadata": {
        "id": "WOr4BdDejTuK"
      },
      "execution_count": 49,
      "outputs": []
    },
    {
      "cell_type": "code",
      "source": [
        "def digital_root(n):\n",
        "#converting the integer number to string to iterate\n",
        "  n=str(n)\n",
        "  #this is keep iterating the for loop until the length of the number is 1 digit\n",
        "  while len(str(n))>1:\n",
        "    #initiating the variable to keep total tab\n",
        "    total=0\n",
        "    for number in n:\n",
        "    #itertating through the converted number and adding it to the total\n",
        "      total=int(number)+total\n",
        "    #converting the total into a string again to send it through the while loop\n",
        "    n=str(total)\n",
        "  #returning the number after the the while loop is satisfied, i.e it's only one number\n",
        "  return int(n)\n",
        "\n",
        "digital_root(n)"
      ],
      "metadata": {
        "colab": {
          "base_uri": "https://localhost:8080/"
        },
        "id": "KJJ4y2TyjM4Q",
        "outputId": "3610fe3f-27e9-4e06-9c0d-bdf1eebd7c72"
      },
      "execution_count": 53,
      "outputs": [
        {
          "output_type": "execute_result",
          "data": {
            "text/plain": [
              "2"
            ]
          },
          "metadata": {},
          "execution_count": 53
        }
      ]
    }
  ]
}