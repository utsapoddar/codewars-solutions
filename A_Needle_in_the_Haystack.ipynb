{
  "nbformat": 4,
  "nbformat_minor": 0,
  "metadata": {
    "colab": {
      "provenance": [],
      "authorship_tag": "ABX9TyPAohxkG2F+i3w/avb3+rRW",
      "include_colab_link": true
    },
    "kernelspec": {
      "name": "python3",
      "display_name": "Python 3"
    },
    "language_info": {
      "name": "python"
    }
  },
  "cells": [
    {
      "cell_type": "markdown",
      "metadata": {
        "id": "view-in-github",
        "colab_type": "text"
      },
      "source": [
        "<a href=\"https://colab.research.google.com/github/utsapoddar/codewars-solutions/blob/main/A_Needle_in_the_Haystack.ipynb\" target=\"_parent\"><img src=\"https://colab.research.google.com/assets/colab-badge.svg\" alt=\"Open In Colab\"/></a>"
      ]
    },
    {
      "cell_type": "markdown",
      "source": [
        "Can you find the needle in the haystack?\n",
        "\n",
        "Write a function findNeedle() that takes an array full of junk but containing one \"needle\"\n",
        "\n",
        "After your function finds the needle it should return a message (as a string) that says:\n",
        "\n",
        "\"found the needle at position \" plus the index it found the needle, so:\n",
        "\n",
        "Example(Input --> Output)\n",
        "\n",
        "[\"hay\", \"junk\", \"hay\", \"hay\", \"moreJunk\", \"needle\", \"randomJunk\"] --> \"found the needle at position 5\"\n",
        "\n",
        "Note: In COBOL, it should return \"found the needle at position 6\""
      ],
      "metadata": {
        "id": "CqodgRy0A_Ij"
      }
    },
    {
      "cell_type": "code",
      "execution_count": 2,
      "metadata": {
        "id": "eido9IRNA-Mi"
      },
      "outputs": [],
      "source": [
        "def find_needle(haystack):\n",
        "    for i in range(len(haystack)):\n",
        "        if haystack[i] == 'needle':\n",
        "            return f\"found the needle at position {i}\""
      ]
    }
  ]
}